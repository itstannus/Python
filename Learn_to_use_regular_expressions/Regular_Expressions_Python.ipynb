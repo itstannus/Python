{
 "cells": [
  {
   "cell_type": "code",
   "execution_count": 1,
   "metadata": {},
   "outputs": [],
   "source": [
    "import re"
   ]
  },
  {
   "cell_type": "markdown",
   "metadata": {},
   "source": [
    "## Has vowels"
   ]
  },
  {
   "cell_type": "code",
   "execution_count": 6,
   "metadata": {},
   "outputs": [],
   "source": [
    "def has_vowel(str):\n",
    "    return bool(re.search(r'[aeiou]',str))"
   ]
  },
  {
   "cell_type": "code",
   "execution_count": 7,
   "metadata": {},
   "outputs": [
    {
     "data": {
      "text/plain": [
       "False"
      ]
     },
     "execution_count": 7,
     "metadata": {},
     "output_type": "execute_result"
    }
   ],
   "source": [
    "has_vowel(\"rhythm\")"
   ]
  },
  {
   "cell_type": "code",
   "execution_count": 8,
   "metadata": {},
   "outputs": [
    {
     "data": {
      "text/plain": [
       "True"
      ]
     },
     "execution_count": 8,
     "metadata": {},
     "output_type": "execute_result"
    }
   ],
   "source": [
    "has_vowel(\"exit\")"
   ]
  },
  {
   "cell_type": "markdown",
   "metadata": {},
   "source": [
    "## Is Integer"
   ]
  },
  {
   "cell_type": "code",
   "execution_count": 37,
   "metadata": {},
   "outputs": [],
   "source": [
    "def is_integer(str):\n",
    "    #return bool(re.search(r'^-?[0-9]+$', str))\n",
    "    return bool(re.search(r'^-?\\d+$', str))"
   ]
  },
  {
   "cell_type": "code",
   "execution_count": 38,
   "metadata": {},
   "outputs": [
    {
     "name": "stdout",
     "output_type": "stream",
     "text": [
      "False\n",
      "False\n",
      "True\n",
      "True\n",
      "False\n",
      "True\n",
      "False\n"
     ]
    }
   ],
   "source": [
    "print(is_integer(\"\"))\n",
    "print(is_integer(\" 5\"))\n",
    "print(is_integer(\"5000\"))\n",
    "print(is_integer(\"-999\"))\n",
    " \n",
    "print(is_integer(\"+999\"))\n",
    " \n",
    "print(is_integer(\"00\"))\n",
    " \n",
    "print(is_integer(\"0.0\"))"
   ]
  },
  {
   "cell_type": "markdown",
   "metadata": {},
   "source": [
    "## Is Fraction"
   ]
  },
  {
   "cell_type": "code",
   "execution_count": 35,
   "metadata": {},
   "outputs": [],
   "source": [
    "def is_fraction(str):\n",
    "    return bool(re.search(r'^-?[0-9]+/[0-9]*[1-9]+[0-9]*$', str))"
   ]
  },
  {
   "cell_type": "code",
   "execution_count": 36,
   "metadata": {},
   "outputs": [
    {
     "name": "stdout",
     "output_type": "stream",
     "text": [
      "False\n",
      "False\n",
      "True\n",
      "False\n",
      "True\n",
      "False\n",
      "False\n",
      "True\n",
      "True\n",
      "False\n"
     ]
    }
   ],
   "source": [
    "print( is_fraction(\"\"))\n",
    " \n",
    "print( is_fraction(\"5000\"))\n",
    " \n",
    "print( is_fraction(\"-999/1\"))\n",
    " \n",
    "print( is_fraction(\"+999/1\"))\n",
    " \n",
    "print( is_fraction(\"00/1\"))\n",
    " \n",
    "print( is_fraction(\"/5\"))\n",
    " \n",
    "print( is_fraction(\"5/0\"))\n",
    " \n",
    "print( is_fraction(\"5/010\"))\n",
    " \n",
    "print( is_fraction(\"5/105\"))\n",
    " \n",
    "print( is_fraction(\"5 / 1\"))"
   ]
  }
 ],
 "metadata": {
  "kernelspec": {
   "display_name": "Python 3",
   "language": "python",
   "name": "python3"
  },
  "language_info": {
   "codemirror_mode": {
    "name": "ipython",
    "version": 3
   },
   "file_extension": ".py",
   "mimetype": "text/x-python",
   "name": "python",
   "nbconvert_exporter": "python",
   "pygments_lexer": "ipython3",
   "version": "3.7.4"
  }
 },
 "nbformat": 4,
 "nbformat_minor": 4
}
