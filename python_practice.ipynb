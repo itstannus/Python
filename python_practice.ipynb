{
 "cells": [
  {
   "cell_type": "code",
   "execution_count": 1,
   "metadata": {},
   "outputs": [
    {
     "data": {
      "text/plain": [
       "3"
      ]
     },
     "execution_count": 1,
     "metadata": {},
     "output_type": "execute_result"
    }
   ],
   "source": [
    "3 or 5"
   ]
  },
  {
   "cell_type": "code",
   "execution_count": 7,
   "metadata": {},
   "outputs": [
    {
     "name": "stdout",
     "output_type": "stream",
     "text": [
      "7 7.0\n"
     ]
    }
   ],
   "source": [
    "print (35 // 5 ,35 / 5)"
   ]
  },
  {
   "cell_type": "code",
   "execution_count": 9,
   "metadata": {},
   "outputs": [
    {
     "data": {
      "text/plain": [
       "15"
      ]
     },
     "execution_count": 9,
     "metadata": {},
     "output_type": "execute_result"
    }
   ],
   "source": [
    "3*5"
   ]
  },
  {
   "cell_type": "code",
   "execution_count": 10,
   "metadata": {},
   "outputs": [
    {
     "ename": "SyntaxError",
     "evalue": "Missing parentheses in call to 'print'. Did you mean print(\"hello\")? (<ipython-input-10-2a0eaa89f43f>, line 1)",
     "output_type": "error",
     "traceback": [
      "\u001b[0;36m  File \u001b[0;32m\"<ipython-input-10-2a0eaa89f43f>\"\u001b[0;36m, line \u001b[0;32m1\u001b[0m\n\u001b[0;31m    print \"hello\"\u001b[0m\n\u001b[0m                ^\u001b[0m\n\u001b[0;31mSyntaxError\u001b[0m\u001b[0;31m:\u001b[0m Missing parentheses in call to 'print'. Did you mean print(\"hello\")?\n"
     ]
    }
   ],
   "source": [
    "print \"hello\""
   ]
  },
  {
   "cell_type": "markdown",
   "metadata": {},
   "source": [
    "## Swapping (no temp var needed)"
   ]
  },
  {
   "cell_type": "code",
   "execution_count": 11,
   "metadata": {},
   "outputs": [
    {
     "name": "stdout",
     "output_type": "stream",
     "text": [
      "3\n"
     ]
    }
   ],
   "source": [
    "a = 7\n",
    "b = a\n",
    "a = 3\n",
    "print (a)"
   ]
  },
  {
   "cell_type": "code",
   "execution_count": 12,
   "metadata": {},
   "outputs": [
    {
     "name": "stdout",
     "output_type": "stream",
     "text": [
      "7\n"
     ]
    }
   ],
   "source": [
    "print(b)"
   ]
  },
  {
   "cell_type": "markdown",
   "metadata": {},
   "source": [
    "## Type"
   ]
  },
  {
   "cell_type": "code",
   "execution_count": 13,
   "metadata": {},
   "outputs": [
    {
     "data": {
      "text/plain": [
       "str"
      ]
     },
     "execution_count": 13,
     "metadata": {},
     "output_type": "execute_result"
    }
   ],
   "source": [
    "b = \"True\"\n",
    "type(b)"
   ]
  },
  {
   "cell_type": "markdown",
   "metadata": {},
   "source": [
    "## Conditional Statement"
   ]
  },
  {
   "cell_type": "code",
   "execution_count": 26,
   "metadata": {},
   "outputs": [
    {
     "name": "stdout",
     "output_type": "stream",
     "text": [
      "nothing\n"
     ]
    }
   ],
   "source": [
    "x=10\n",
    "y=20\n",
    "#() is optional for condition\n",
    "if x>y : print('x is greater than y') #prints nothing."
   ]
  },
  {
   "cell_type": "markdown",
   "metadata": {},
   "source": [
    "## For loop"
   ]
  },
  {
   "cell_type": "code",
   "execution_count": 20,
   "metadata": {},
   "outputs": [
    {
     "ename": "TypeError",
     "evalue": "'float' object cannot be interpreted as an integer",
     "output_type": "error",
     "traceback": [
      "\u001b[0;31m---------------------------------------------------------------------------\u001b[0m",
      "\u001b[0;31mTypeError\u001b[0m                                 Traceback (most recent call last)",
      "\u001b[0;32m<ipython-input-20-4269aa634bea>\u001b[0m in \u001b[0;36m<module>\u001b[0;34m\u001b[0m\n\u001b[0;32m----> 1\u001b[0;31m \u001b[0;32mfor\u001b[0m \u001b[0mi\u001b[0m \u001b[0;32min\u001b[0m \u001b[0mrange\u001b[0m\u001b[0;34m(\u001b[0m\u001b[0;36m2.0\u001b[0m\u001b[0;34m)\u001b[0m\u001b[0;34m:\u001b[0m\u001b[0;34m\u001b[0m\u001b[0;34m\u001b[0m\u001b[0m\n\u001b[0m\u001b[1;32m      2\u001b[0m     \u001b[0mprint\u001b[0m\u001b[0;34m(\u001b[0m\u001b[0mi\u001b[0m\u001b[0;34m)\u001b[0m\u001b[0;34m\u001b[0m\u001b[0;34m\u001b[0m\u001b[0m\n",
      "\u001b[0;31mTypeError\u001b[0m: 'float' object cannot be interpreted as an integer"
     ]
    }
   ],
   "source": [
    "for i in range(2.0):\n",
    "    print(i)"
   ]
  },
  {
   "cell_type": "code",
   "execution_count": 24,
   "metadata": {},
   "outputs": [
    {
     "name": "stdout",
     "output_type": "stream",
     "text": [
      "e\n",
      "e\n",
      "e\n",
      "------\n"
     ]
    }
   ],
   "source": [
    "for i in 'eee':\n",
    "    print(i)\n",
    "print('------')\n",
    "for i in '':\n",
    "    print(i) #prints nothing"
   ]
  },
  {
   "cell_type": "markdown",
   "metadata": {},
   "source": [
    "## Function"
   ]
  },
  {
   "cell_type": "code",
   "execution_count": 30,
   "metadata": {},
   "outputs": [
    {
     "name": "stdout",
     "output_type": "stream",
     "text": [
      "100\n",
      "10\n"
     ]
    }
   ],
   "source": [
    "# function return greater of the two\n",
    "def greater(a, b):\n",
    "    if a >b :\n",
    "        great = a\n",
    "    else:\n",
    "        great = b\n",
    "    return great #great var is accessible throughout function and not local to if block only , unlike in JAVA\n",
    "\n",
    "print (greater(10,100))\n",
    "print (greater(10, 9))"
   ]
  },
  {
   "cell_type": "markdown",
   "metadata": {},
   "source": [
    "## List"
   ]
  },
  {
   "cell_type": "code",
   "execution_count": 37,
   "metadata": {},
   "outputs": [
    {
     "name": "stdout",
     "output_type": "stream",
     "text": [
      "---Add\n",
      "Adding single element to list:  [1, 2, 3, 4]\n",
      "Adding multiple element to list:  [1, 2, 3, 4, 5, 6]\n",
      "Adding list to list:  [1, 2, 3, 4, 5, 6, [7, 8]]\n",
      "---Delete\n",
      "Deleting element by value:  [1, 2, 3, 4, 5, 6]\n",
      "Deleting element by index:  [1, 2, 3, 4, 5]\n"
     ]
    }
   ],
   "source": [
    "list3 = [1, 2, 3]\n",
    "print('---Add')\n",
    "list3.append(4)\n",
    "print('Adding single element to list: ',list3)\n",
    "list3.extend([5,6])\n",
    "print('Adding multiple element to list: ',list3)\n",
    "list3.append([7,8])\n",
    "print('Adding list to list: ',list3)\n",
    "print('---Delete')\n",
    "list3.remove([7,8])\n",
    "print('Deleting element by value: ',list3)\n",
    "del list3[-1]\n",
    "print('Deleting element by index: ',list3)"
   ]
  },
  {
   "cell_type": "markdown",
   "metadata": {},
   "source": [
    "## Dictionary"
   ]
  },
  {
   "cell_type": "code",
   "execution_count": 51,
   "metadata": {},
   "outputs": [
    {
     "name": "stdout",
     "output_type": "stream",
     "text": [
      "---Create\n",
      "Create using dict constructor-> dict() : {}\n",
      "Create using dict constructor-> dict(**kwargs) : {'x': 0, 'y': 1}\n",
      "create dictionary: {'Ramesh': 40, 'Suresh': 80, 'Pritesh': 90}\n",
      "---Add\n",
      "Add single pair: {'Ramesh': 40, 'Suresh': 80, 'Pritesh': 90, 'Neeraj': 100}\n",
      "Add multiple pairs: {'Ramesh': 40, 'Suresh': 80, 'Pritesh': 90, 'Neeraj': 100, 'Satish': 50, 'Abhishek': 60}\n",
      "---Delete\n",
      "Delete by key: {'Ramesh': 40, 'Suresh': 80, 'Pritesh': 90, 'Satish': 50, 'Abhishek': 60}\n"
     ]
    }
   ],
   "source": [
    "#Creating dictionary\n",
    "print('---Create')\n",
    "empty = dict()\n",
    "print('Create using dict constructor-> dict() :', empty)\n",
    "sample = dict(x=0, y=1)\n",
    "print('Create using dict constructor-> dict(**kwargs) :', sample)\n",
    "marks = {'Ramesh': 40, 'Suresh': 80, 'Pritesh': 90}\n",
    "print('create dictionary:', marks)\n",
    "\n",
    "print('---Add')\n",
    "marks['Neeraj'] = 100\n",
    "print('Add single pair:',marks)\n",
    "marks.update(dict(Satish=50,Abhishek=60))\n",
    "#marks.update({'Satish': 50, 'Abhishek':60})\n",
    "print('Add multiple pairs:',marks)\n",
    "\n",
    "print('---Delete')\n",
    "del marks['Neeraj']\n",
    "print('Delete by key:',marks)"
   ]
  }
 ],
 "metadata": {
  "kernelspec": {
   "display_name": "Python 3",
   "language": "python",
   "name": "python3"
  },
  "language_info": {
   "codemirror_mode": {
    "name": "ipython",
    "version": 3
   },
   "file_extension": ".py",
   "mimetype": "text/x-python",
   "name": "python",
   "nbconvert_exporter": "python",
   "pygments_lexer": "ipython3",
   "version": "3.7.4"
  }
 },
 "nbformat": 4,
 "nbformat_minor": 4
}
